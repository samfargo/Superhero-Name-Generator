{
 "cells": [
  {
   "cell_type": "markdown",
   "metadata": {
    "id": "21XXWP7Fpt2L"
   },
   "source": [
    "### Superhero Name Generator\n",
    "\n",
    "---"
   ]
  },
  {
   "cell_type": "markdown",
   "metadata": {
    "id": "H6P0NU5Cpt2R"
   },
   "source": [
    "Import the data"
   ]
  },
  {
   "cell_type": "code",
   "execution_count": 49,
   "metadata": {
    "colab": {
     "base_uri": "https://localhost:8080/",
     "height": 53
    },
    "executionInfo": {
     "elapsed": 304,
     "status": "ok",
     "timestamp": 1606327049194,
     "user": {
      "displayName": "Amit Yadav",
      "photoUrl": "https://lh3.googleusercontent.com/a-/AOh14GhPlsR49pVenE006oG1QDmA4uQZFm5zND0AfTfoPA=s64",
      "userId": "06019965579715007028"
     },
     "user_tz": 0
    },
    "id": "uq4CLmsLpt2P",
    "outputId": "7536f22e-e4ac-485b-ac50-a96f7445da3d"
   },
   "outputs": [
    {
     "data": {
      "text/plain": [
       "'jumpa\\t\\ndoctor fate\\t\\nstarlight\\t\\nisildur\\t\\nlasher\\t\\nvarvara\\t\\nthe target\\t\\naxel\\t\\nbattra\\t\\nchangeling\\t\\npyrrh'"
      ]
     },
     "execution_count": 49,
     "metadata": {},
     "output_type": "execute_result"
    }
   ],
   "source": [
    "with open('/Users/samfargo/Desktop/superheroes.txt', 'r') as f:\n",
    "  data = f.read()\n",
    "\n",
    "data[:100]"
   ]
  },
  {
   "cell_type": "code",
   "execution_count": 50,
   "metadata": {
    "colab": {
     "base_uri": "https://localhost:8080/"
    },
    "executionInfo": {
     "elapsed": 1857,
     "status": "ok",
     "timestamp": 1606327051789,
     "user": {
      "displayName": "Amit Yadav",
      "photoUrl": "https://lh3.googleusercontent.com/a-/AOh14GhPlsR49pVenE006oG1QDmA4uQZFm5zND0AfTfoPA=s64",
      "userId": "06019965579715007028"
     },
     "user_tz": 0
    },
    "id": "JqhtLuAHpt2R",
    "outputId": "63064fc6-6778-4506-fe0f-9734918bea6a"
   },
   "outputs": [],
   "source": [
    "import tensorflow as tf "
   ]
  },
  {
   "cell_type": "markdown",
   "metadata": {},
   "source": [
    "Create a tokenizer"
   ]
  },
  {
   "cell_type": "code",
   "execution_count": 51,
   "metadata": {
    "executionInfo": {
     "elapsed": 1019,
     "status": "ok",
     "timestamp": 1606327051790,
     "user": {
      "displayName": "Amit Yadav",
      "photoUrl": "https://lh3.googleusercontent.com/a-/AOh14GhPlsR49pVenE006oG1QDmA4uQZFm5zND0AfTfoPA=s64",
      "userId": "06019965579715007028"
     },
     "user_tz": 0
    },
    "id": "95Lo1Yqzpt2T"
   },
   "outputs": [],
   "source": [
    "tokenizer = tf.keras.preprocessing.text.Tokenizer(\n",
    "    filters='!\"#$%&()*+,-./:;<=>?@[\\\\]^_`{|}~',\n",
    "    split='\\n',\n",
    ")"
   ]
  },
  {
   "cell_type": "code",
   "execution_count": 52,
   "metadata": {
    "executionInfo": {
     "elapsed": 1399,
     "status": "ok",
     "timestamp": 1606327052375,
     "user": {
      "displayName": "Amit Yadav",
      "photoUrl": "https://lh3.googleusercontent.com/a-/AOh14GhPlsR49pVenE006oG1QDmA4uQZFm5zND0AfTfoPA=s64",
      "userId": "06019965579715007028"
     },
     "user_tz": 0
    },
    "id": "qYfC4sj2pt2V"
   },
   "outputs": [],
   "source": [
    "tokenizer.fit_on_texts(data)"
   ]
  },
  {
   "cell_type": "markdown",
   "metadata": {},
   "source": [
    "Char to index and index to char dictionaries"
   ]
  },
  {
   "cell_type": "code",
   "execution_count": 53,
   "metadata": {
    "colab": {
     "base_uri": "https://localhost:8080/"
    },
    "executionInfo": {
     "elapsed": 1226,
     "status": "ok",
     "timestamp": 1606327052376,
     "user": {
      "displayName": "Amit Yadav",
      "photoUrl": "https://lh3.googleusercontent.com/a-/AOh14GhPlsR49pVenE006oG1QDmA4uQZFm5zND0AfTfoPA=s64",
      "userId": "06019965579715007028"
     },
     "user_tz": 0
    },
    "id": "EO4-dPM6pt2X",
    "outputId": "3e7983de-1a96-464c-a664-9388b84a502a"
   },
   "outputs": [
    {
     "name": "stdout",
     "output_type": "stream",
     "text": [
      "{1: '\\t', 2: 'a', 3: 'e', 4: 'r', 5: 'o', 6: 'n', 7: 'i', 8: ' ', 9: 't', 10: 's', 11: 'l', 12: 'm', 13: 'h', 14: 'd', 15: 'c', 16: 'u', 17: 'g', 18: 'k', 19: 'b', 20: 'p', 21: 'y', 22: 'w', 23: 'f', 24: 'v', 25: 'j', 26: 'z', 27: 'x', 28: 'q'}\n"
     ]
    }
   ],
   "source": [
    "char_to_index = tokenizer.word_index\n",
    "index_to_char = dict((v, k) for k, v in char_to_index.items())\n",
    "\n",
    "print(index_to_char)"
   ]
  },
  {
   "cell_type": "markdown",
   "metadata": {
    "id": "SMwtIw_Bpt2Z"
   },
   "source": [
    "Convert between names and sequences"
   ]
  },
  {
   "cell_type": "code",
   "execution_count": 54,
   "metadata": {
    "colab": {
     "base_uri": "https://localhost:8080/"
    },
    "executionInfo": {
     "elapsed": 193,
     "status": "ok",
     "timestamp": 1606327052376,
     "user": {
      "displayName": "Amit Yadav",
      "photoUrl": "https://lh3.googleusercontent.com/a-/AOh14GhPlsR49pVenE006oG1QDmA4uQZFm5zND0AfTfoPA=s64",
      "userId": "06019965579715007028"
     },
     "user_tz": 0
    },
    "id": "N7iQLIXzpt2a",
    "outputId": "4cf90490-d460-4782-e202-814ad5eca8b6"
   },
   "outputs": [
    {
     "data": {
      "text/plain": [
       "['jumpa\\t',\n",
       " 'doctor fate\\t',\n",
       " 'starlight\\t',\n",
       " 'isildur\\t',\n",
       " 'lasher\\t',\n",
       " 'varvara\\t',\n",
       " 'the target\\t',\n",
       " 'axel\\t',\n",
       " 'battra\\t',\n",
       " 'changeling\\t']"
      ]
     },
     "execution_count": 54,
     "metadata": {},
     "output_type": "execute_result"
    }
   ],
   "source": [
    "names = data.splitlines()\n",
    "names[:10]"
   ]
  },
  {
   "cell_type": "code",
   "execution_count": 55,
   "metadata": {
    "colab": {
     "base_uri": "https://localhost:8080/"
    },
    "executionInfo": {
     "elapsed": 277,
     "status": "ok",
     "timestamp": 1606327053764,
     "user": {
      "displayName": "Amit Yadav",
      "photoUrl": "https://lh3.googleusercontent.com/a-/AOh14GhPlsR49pVenE006oG1QDmA4uQZFm5zND0AfTfoPA=s64",
      "userId": "06019965579715007028"
     },
     "user_tz": 0
    },
    "id": "n_-TTfqipt2c",
    "outputId": "91b44824-6f8c-4b82-ffdc-b6830d47189a"
   },
   "outputs": [
    {
     "data": {
      "text/plain": [
       "[[25], [16], [12], [20], [2], [1]]"
      ]
     },
     "execution_count": 55,
     "metadata": {},
     "output_type": "execute_result"
    }
   ],
   "source": [
    "tokenizer.texts_to_sequences(names[0]) # builds functionality to convert sequences of characters to sequences of numbers"
   ]
  },
  {
   "cell_type": "code",
   "execution_count": 56,
   "metadata": {
    "executionInfo": {
     "elapsed": 350,
     "status": "ok",
     "timestamp": 1606327055037,
     "user": {
      "displayName": "Amit Yadav",
      "photoUrl": "https://lh3.googleusercontent.com/a-/AOh14GhPlsR49pVenE006oG1QDmA4uQZFm5zND0AfTfoPA=s64",
      "userId": "06019965579715007028"
     },
     "user_tz": 0
    },
    "id": "P6IsKH1Upt2e"
   },
   "outputs": [],
   "source": [
    "def name_to_seq(name):\n",
    "  return [tokenizer.texts_to_sequences(c)[0][0] for c in name]"
   ]
  },
  {
   "cell_type": "code",
   "execution_count": 57,
   "metadata": {
    "colab": {
     "base_uri": "https://localhost:8080/"
    },
    "executionInfo": {
     "elapsed": 268,
     "status": "ok",
     "timestamp": 1606327056101,
     "user": {
      "displayName": "Amit Yadav",
      "photoUrl": "https://lh3.googleusercontent.com/a-/AOh14GhPlsR49pVenE006oG1QDmA4uQZFm5zND0AfTfoPA=s64",
      "userId": "06019965579715007028"
     },
     "user_tz": 0
    },
    "id": "TuLUiMP3pt2g",
    "outputId": "f4e0237d-f2cb-444f-c8d0-ea0b8fac20b4"
   },
   "outputs": [
    {
     "data": {
      "text/plain": [
       "[25, 16, 12, 20, 2, 1]"
      ]
     },
     "execution_count": 57,
     "metadata": {},
     "output_type": "execute_result"
    }
   ],
   "source": [
    "name_to_seq(names[0])"
   ]
  },
  {
   "cell_type": "code",
   "execution_count": 58,
   "metadata": {
    "executionInfo": {
     "elapsed": 230,
     "status": "ok",
     "timestamp": 1606327056896,
     "user": {
      "displayName": "Amit Yadav",
      "photoUrl": "https://lh3.googleusercontent.com/a-/AOh14GhPlsR49pVenE006oG1QDmA4uQZFm5zND0AfTfoPA=s64",
      "userId": "06019965579715007028"
     },
     "user_tz": 0
    },
    "id": "yFUYhimKpt2h"
   },
   "outputs": [],
   "source": [
    "def seq_to_name(seq):\n",
    "  return ''.join([index_to_char[i] for i in seq if i != 0])"
   ]
  },
  {
   "cell_type": "code",
   "execution_count": 59,
   "metadata": {
    "colab": {
     "base_uri": "https://localhost:8080/",
     "height": 35
    },
    "executionInfo": {
     "elapsed": 276,
     "status": "ok",
     "timestamp": 1606327057872,
     "user": {
      "displayName": "Amit Yadav",
      "photoUrl": "https://lh3.googleusercontent.com/a-/AOh14GhPlsR49pVenE006oG1QDmA4uQZFm5zND0AfTfoPA=s64",
      "userId": "06019965579715007028"
     },
     "user_tz": 0
    },
    "id": "ROhCqmhLpt2k",
    "outputId": "33db1841-8327-483f-8fc2-c97b77ded599"
   },
   "outputs": [
    {
     "data": {
      "text/plain": [
       "'jumpa\\t'"
      ]
     },
     "execution_count": 59,
     "metadata": {},
     "output_type": "execute_result"
    }
   ],
   "source": [
    "seq_to_name(name_to_seq(names[0]))"
   ]
  },
  {
   "cell_type": "markdown",
   "metadata": {
    "id": "uCbAzsNjpt2m"
   },
   "source": [
    "Create sequences"
   ]
  },
  {
   "cell_type": "code",
   "execution_count": 60,
   "metadata": {
    "executionInfo": {
     "elapsed": 948,
     "status": "ok",
     "timestamp": 1606327060480,
     "user": {
      "displayName": "Amit Yadav",
      "photoUrl": "https://lh3.googleusercontent.com/a-/AOh14GhPlsR49pVenE006oG1QDmA4uQZFm5zND0AfTfoPA=s64",
      "userId": "06019965579715007028"
     },
     "user_tz": 0
    },
    "id": "zstNn-0dpt2m"
   },
   "outputs": [],
   "source": [
    "sequences= []\n",
    "\n",
    "for name in names:\n",
    "  seq = name_to_seq(name)\n",
    "  if len(seq) >= 2:\n",
    "    sequences += [seq[:i] for i in range(2, len(seq) + 1)]"
   ]
  },
  {
   "cell_type": "code",
   "execution_count": 61,
   "metadata": {
    "colab": {
     "base_uri": "https://localhost:8080/"
    },
    "executionInfo": {
     "elapsed": 323,
     "status": "ok",
     "timestamp": 1606327060481,
     "user": {
      "displayName": "Amit Yadav",
      "photoUrl": "https://lh3.googleusercontent.com/a-/AOh14GhPlsR49pVenE006oG1QDmA4uQZFm5zND0AfTfoPA=s64",
      "userId": "06019965579715007028"
     },
     "user_tz": 0
    },
    "id": "BjRTMysvpt2o",
    "outputId": "4880bfcf-fbe9-4c33-b8c9-9d8868fb81bd"
   },
   "outputs": [
    {
     "data": {
      "text/plain": [
       "[[25, 16],\n",
       " [25, 16, 12],\n",
       " [25, 16, 12, 20],\n",
       " [25, 16, 12, 20, 2],\n",
       " [25, 16, 12, 20, 2, 1],\n",
       " [14, 5],\n",
       " [14, 5, 15],\n",
       " [14, 5, 15, 9],\n",
       " [14, 5, 15, 9, 5],\n",
       " [14, 5, 15, 9, 5, 4]]"
      ]
     },
     "execution_count": 61,
     "metadata": {},
     "output_type": "execute_result"
    }
   ],
   "source": [
    "sequences[:10]"
   ]
  },
  {
   "cell_type": "code",
   "execution_count": 62,
   "metadata": {
    "colab": {
     "base_uri": "https://localhost:8080/"
    },
    "executionInfo": {
     "elapsed": 275,
     "status": "ok",
     "timestamp": 1606327060666,
     "user": {
      "displayName": "Amit Yadav",
      "photoUrl": "https://lh3.googleusercontent.com/a-/AOh14GhPlsR49pVenE006oG1QDmA4uQZFm5zND0AfTfoPA=s64",
      "userId": "06019965579715007028"
     },
     "user_tz": 0
    },
    "id": "SR68pu2tpt2q",
    "outputId": "8442a38e-638d-493a-bb2b-4fd0b2ab265d"
   },
   "outputs": [
    {
     "name": "stdout",
     "output_type": "stream",
     "text": [
      "33\n"
     ]
    }
   ],
   "source": [
    "max_len = max([len(x) for x in sequences])\n",
    "print(max_len)"
   ]
  },
  {
   "cell_type": "markdown",
   "metadata": {},
   "source": [
    "Pad all sequences"
   ]
  },
  {
   "cell_type": "code",
   "execution_count": 63,
   "metadata": {
    "colab": {
     "base_uri": "https://localhost:8080/"
    },
    "executionInfo": {
     "elapsed": 807,
     "status": "ok",
     "timestamp": 1606327061443,
     "user": {
      "displayName": "Amit Yadav",
      "photoUrl": "https://lh3.googleusercontent.com/a-/AOh14GhPlsR49pVenE006oG1QDmA4uQZFm5zND0AfTfoPA=s64",
      "userId": "06019965579715007028"
     },
     "user_tz": 0
    },
    "id": "h_1BtWO7pt2r",
    "outputId": "b129a29e-91a3-41ef-cb27-9e578e6b6663"
   },
   "outputs": [
    {
     "name": "stdout",
     "output_type": "stream",
     "text": [
      "[ 0  0  0  0  0  0  0  0  0  0  0  0  0  0  0  0  0  0  0  0  0  0  0  0\n",
      "  0  0  0  0  0  0  0 25 16]\n"
     ]
    }
   ],
   "source": [
    "padded_sequences = tf.keras.preprocessing.sequence.pad_sequences(\n",
    "    sequences, padding='pre',\n",
    "    maxlen=max_len\n",
    ")\n",
    "\n",
    "print(padded_sequences[0])"
   ]
  },
  {
   "cell_type": "code",
   "execution_count": 64,
   "metadata": {
    "colab": {
     "base_uri": "https://localhost:8080/"
    },
    "executionInfo": {
     "elapsed": 408,
     "status": "ok",
     "timestamp": 1606327061638,
     "user": {
      "displayName": "Amit Yadav",
      "photoUrl": "https://lh3.googleusercontent.com/a-/AOh14GhPlsR49pVenE006oG1QDmA4uQZFm5zND0AfTfoPA=s64",
      "userId": "06019965579715007028"
     },
     "user_tz": 0
    },
    "id": "sPlrLRpSpt2t",
    "outputId": "bbbabd08-a742-4ee3-f5e8-e4619cc17a84"
   },
   "outputs": [
    {
     "data": {
      "text/plain": [
       "(88279, 33)"
      ]
     },
     "execution_count": 64,
     "metadata": {},
     "output_type": "execute_result"
    }
   ],
   "source": [
    "padded_sequences.shape"
   ]
  },
  {
   "cell_type": "markdown",
   "metadata": {
    "id": "4WPypqx8RfRu"
   },
   "source": [
    "Create training and validation sets"
   ]
  },
  {
   "cell_type": "code",
   "execution_count": 65,
   "metadata": {
    "colab": {
     "base_uri": "https://localhost:8080/"
    },
    "executionInfo": {
     "elapsed": 352,
     "status": "ok",
     "timestamp": 1606327062882,
     "user": {
      "displayName": "Amit Yadav",
      "photoUrl": "https://lh3.googleusercontent.com/a-/AOh14GhPlsR49pVenE006oG1QDmA4uQZFm5zND0AfTfoPA=s64",
      "userId": "06019965579715007028"
     },
     "user_tz": 0
    },
    "id": "BE4BIeSnpt2v",
    "outputId": "2e23751c-e71d-4327-d691-99cd3fb630a0"
   },
   "outputs": [
    {
     "name": "stdout",
     "output_type": "stream",
     "text": [
      "(88279, 32) (88279,)\n"
     ]
    }
   ],
   "source": [
    "x, y = padded_sequences[:, :-1], padded_sequences[:, -1]\n",
    "print(x.shape, y.shape)"
   ]
  },
  {
   "cell_type": "code",
   "execution_count": 66,
   "metadata": {
    "colab": {
     "base_uri": "https://localhost:8080/"
    },
    "executionInfo": {
     "elapsed": 934,
     "status": "ok",
     "timestamp": 1606327064059,
     "user": {
      "displayName": "Amit Yadav",
      "photoUrl": "https://lh3.googleusercontent.com/a-/AOh14GhPlsR49pVenE006oG1QDmA4uQZFm5zND0AfTfoPA=s64",
      "userId": "06019965579715007028"
     },
     "user_tz": 0
    },
    "id": "jWKfJNVXRfRu",
    "outputId": "52a43af8-16cf-45c1-afd7-5ca7c664fce7"
   },
   "outputs": [
    {
     "name": "stdout",
     "output_type": "stream",
     "text": [
      "(66209, 32) (66209,)\n",
      "(22070, 32) (22070,)\n"
     ]
    }
   ],
   "source": [
    "from sklearn.model_selection import train_test_split\n",
    "\n",
    "x_train, x_test, y_train, y_test = train_test_split(x, y)\n",
    "\n",
    "print(x_train.shape, y_train.shape)\n",
    "print(x_test.shape, y_test.shape)"
   ]
  },
  {
   "cell_type": "code",
   "execution_count": 67,
   "metadata": {
    "colab": {
     "base_uri": "https://localhost:8080/"
    },
    "executionInfo": {
     "elapsed": 246,
     "status": "ok",
     "timestamp": 1606327064060,
     "user": {
      "displayName": "Amit Yadav",
      "photoUrl": "https://lh3.googleusercontent.com/a-/AOh14GhPlsR49pVenE006oG1QDmA4uQZFm5zND0AfTfoPA=s64",
      "userId": "06019965579715007028"
     },
     "user_tz": 0
    },
    "id": "cgqRZtqnpt2x",
    "outputId": "a64a30f5-d466-4064-b3fe-a6ea8508417a"
   },
   "outputs": [
    {
     "name": "stdout",
     "output_type": "stream",
     "text": [
      "29\n"
     ]
    }
   ],
   "source": [
    "num_chars = len(char_to_index.keys()) + 1\n",
    "print(num_chars) # A-Z, space, tab, 0"
   ]
  },
  {
   "cell_type": "markdown",
   "metadata": {
    "id": "UsM2fs3_RfRu"
   },
   "source": [
    "Create the model"
   ]
  },
  {
   "cell_type": "code",
   "execution_count": 68,
   "metadata": {
    "colab": {
     "base_uri": "https://localhost:8080/"
    },
    "executionInfo": {
     "elapsed": 6001,
     "status": "ok",
     "timestamp": 1606327072676,
     "user": {
      "displayName": "Amit Yadav",
      "photoUrl": "https://lh3.googleusercontent.com/a-/AOh14GhPlsR49pVenE006oG1QDmA4uQZFm5zND0AfTfoPA=s64",
      "userId": "06019965579715007028"
     },
     "user_tz": 0
    },
    "id": "2dPlCmTYRfRu",
    "outputId": "df67f41f-2952-406f-8841-49c5a8fbb44e"
   },
   "outputs": [
    {
     "name": "stdout",
     "output_type": "stream",
     "text": [
      "Model: \"sequential_2\"\n",
      "_________________________________________________________________\n",
      "Layer (type)                 Output Shape              Param #   \n",
      "=================================================================\n",
      "embedding_2 (Embedding)      (None, 32, 8)             232       \n",
      "_________________________________________________________________\n",
      "conv1d_2 (Conv1D)            (None, 32, 64)            2624      \n",
      "_________________________________________________________________\n",
      "max_pooling1d_2 (MaxPooling1 (None, 16, 64)            0         \n",
      "_________________________________________________________________\n",
      "lstm_2 (LSTM)                (None, 32)                12416     \n",
      "_________________________________________________________________\n",
      "dense_2 (Dense)              (None, 29)                957       \n",
      "=================================================================\n",
      "Total params: 16,229\n",
      "Trainable params: 16,229\n",
      "Non-trainable params: 0\n",
      "_________________________________________________________________\n"
     ]
    }
   ],
   "source": [
    "from tensorflow.keras.models import Sequential\n",
    "from tensorflow.keras.layers import Embedding, Conv1D, MaxPool1D, LSTM\n",
    "from tensorflow.keras.layers import Bidirectional, Dense\n",
    "\n",
    "model = Sequential([\n",
    "                    Embedding(num_chars, 8, input_length=max_len-1),\n",
    "                    Conv1D(64, 5, strides=1, activation='tanh', padding='causal'),\n",
    "                    MaxPool1D(2),\n",
    "                    LSTM(32),\n",
    "                    Dense(num_chars, activation='softmax')\n",
    "])\n",
    "\n",
    "model.compile(\n",
    "    loss='sparse_categorical_crossentropy',\n",
    "    optimizer='adam',\n",
    "    metrics=['accuracy']\n",
    ")\n",
    "\n",
    "model.summary()"
   ]
  },
  {
   "cell_type": "markdown",
   "metadata": {
    "id": "du_WBvUHRfRu"
   },
   "source": [
    "Train the model (may take several minutes)"
   ]
  },
  {
   "cell_type": "code",
   "execution_count": 69,
   "metadata": {
    "colab": {
     "base_uri": "https://localhost:8080/"
    },
    "executionInfo": {
     "elapsed": 434017,
     "status": "ok",
     "timestamp": 1606327918063,
     "user": {
      "displayName": "Amit Yadav",
      "photoUrl": "https://lh3.googleusercontent.com/a-/AOh14GhPlsR49pVenE006oG1QDmA4uQZFm5zND0AfTfoPA=s64",
      "userId": "06019965579715007028"
     },
     "user_tz": 0
    },
    "id": "j0Ssl4qupt22",
    "outputId": "9059f683-d9f0-4d10-cfdb-6badb9c3330f"
   },
   "outputs": [
    {
     "name": "stdout",
     "output_type": "stream",
     "text": [
      "Epoch 1/50\n",
      "2070/2070 - 26s - loss: 2.7508 - accuracy: 0.1919 - val_loss: 2.5912 - val_accuracy: 0.2158\n",
      "Epoch 2/50\n",
      "2070/2070 - 24s - loss: 2.5270 - accuracy: 0.2404 - val_loss: 2.4944 - val_accuracy: 0.2414\n",
      "Epoch 3/50\n",
      "2070/2070 - 24s - loss: 2.4585 - accuracy: 0.2548 - val_loss: 2.4478 - val_accuracy: 0.2567\n",
      "Epoch 4/50\n",
      "2070/2070 - 24s - loss: 2.4133 - accuracy: 0.2682 - val_loss: 2.4140 - val_accuracy: 0.2642\n",
      "Epoch 5/50\n",
      "2070/2070 - 24s - loss: 2.3776 - accuracy: 0.2795 - val_loss: 2.3850 - val_accuracy: 0.2746\n",
      "Epoch 6/50\n",
      "2070/2070 - 24s - loss: 2.3432 - accuracy: 0.2911 - val_loss: 2.3547 - val_accuracy: 0.2886\n",
      "Epoch 7/50\n",
      "2070/2070 - 24s - loss: 2.3137 - accuracy: 0.3018 - val_loss: 2.3431 - val_accuracy: 0.2867\n",
      "Epoch 8/50\n",
      "2070/2070 - 23s - loss: 2.2881 - accuracy: 0.3103 - val_loss: 2.3217 - val_accuracy: 0.2951\n",
      "Epoch 9/50\n",
      "2070/2070 - 22s - loss: 2.2642 - accuracy: 0.3181 - val_loss: 2.3052 - val_accuracy: 0.3040\n",
      "Epoch 10/50\n",
      "2070/2070 - 23s - loss: 2.2421 - accuracy: 0.3251 - val_loss: 2.2874 - val_accuracy: 0.3081\n",
      "Epoch 11/50\n",
      "2070/2070 - 23s - loss: 2.2228 - accuracy: 0.3299 - val_loss: 2.2815 - val_accuracy: 0.3133\n",
      "Epoch 12/50\n",
      "2070/2070 - 22s - loss: 2.2055 - accuracy: 0.3365 - val_loss: 2.2656 - val_accuracy: 0.3163\n",
      "Epoch 13/50\n",
      "2070/2070 - 22s - loss: 2.1883 - accuracy: 0.3413 - val_loss: 2.2592 - val_accuracy: 0.3199\n",
      "Epoch 14/50\n",
      "2070/2070 - 22s - loss: 2.1721 - accuracy: 0.3460 - val_loss: 2.2513 - val_accuracy: 0.3237\n",
      "Epoch 15/50\n",
      "2070/2070 - 22s - loss: 2.1575 - accuracy: 0.3520 - val_loss: 2.2439 - val_accuracy: 0.3208\n",
      "Epoch 16/50\n",
      "2070/2070 - 22s - loss: 2.1439 - accuracy: 0.3556 - val_loss: 2.2403 - val_accuracy: 0.3275\n",
      "Epoch 17/50\n",
      "2070/2070 - 22s - loss: 2.1318 - accuracy: 0.3601 - val_loss: 2.2306 - val_accuracy: 0.3341\n",
      "Epoch 18/50\n",
      "2070/2070 - 23s - loss: 2.1202 - accuracy: 0.3635 - val_loss: 2.2284 - val_accuracy: 0.3348\n",
      "Epoch 19/50\n",
      "2070/2070 - 23s - loss: 2.1086 - accuracy: 0.3678 - val_loss: 2.2218 - val_accuracy: 0.3348\n",
      "Epoch 20/50\n",
      "2070/2070 - 23s - loss: 2.0991 - accuracy: 0.3708 - val_loss: 2.2157 - val_accuracy: 0.3365\n",
      "Epoch 21/50\n",
      "2070/2070 - 23s - loss: 2.0896 - accuracy: 0.3738 - val_loss: 2.2206 - val_accuracy: 0.3391\n",
      "Epoch 22/50\n",
      "2070/2070 - 22s - loss: 2.0799 - accuracy: 0.3781 - val_loss: 2.2163 - val_accuracy: 0.3415\n",
      "Epoch 23/50\n",
      "2070/2070 - 22s - loss: 2.0720 - accuracy: 0.3798 - val_loss: 2.2127 - val_accuracy: 0.3417\n",
      "Epoch 24/50\n",
      "2070/2070 - 22s - loss: 2.0638 - accuracy: 0.3823 - val_loss: 2.2171 - val_accuracy: 0.3413\n",
      "Epoch 25/50\n",
      "2070/2070 - 23s - loss: 2.0560 - accuracy: 0.3849 - val_loss: 2.2185 - val_accuracy: 0.3398\n",
      "Epoch 26/50\n",
      "2070/2070 - 22s - loss: 2.0490 - accuracy: 0.3876 - val_loss: 2.2112 - val_accuracy: 0.3428\n",
      "Epoch 27/50\n",
      "2070/2070 - 23s - loss: 2.0419 - accuracy: 0.3891 - val_loss: 2.2101 - val_accuracy: 0.3487\n",
      "Epoch 28/50\n",
      "2070/2070 - 183s - loss: 2.0349 - accuracy: 0.3912 - val_loss: 2.2075 - val_accuracy: 0.3515\n",
      "Epoch 29/50\n",
      "2070/2070 - 23s - loss: 2.0289 - accuracy: 0.3942 - val_loss: 2.2059 - val_accuracy: 0.3475\n",
      "Epoch 30/50\n",
      "2070/2070 - 23s - loss: 2.0221 - accuracy: 0.3964 - val_loss: 2.2032 - val_accuracy: 0.3535\n",
      "Epoch 31/50\n",
      "2070/2070 - 23s - loss: 2.0166 - accuracy: 0.3970 - val_loss: 2.2044 - val_accuracy: 0.3530\n",
      "Epoch 32/50\n",
      "2070/2070 - 23s - loss: 2.0117 - accuracy: 0.4002 - val_loss: 2.2001 - val_accuracy: 0.3556\n",
      "Epoch 33/50\n",
      "2070/2070 - 23s - loss: 2.0051 - accuracy: 0.4029 - val_loss: 2.2016 - val_accuracy: 0.3548\n",
      "Epoch 34/50\n",
      "2070/2070 - 23s - loss: 2.0001 - accuracy: 0.4027 - val_loss: 2.2030 - val_accuracy: 0.3541\n",
      "Epoch 35/50\n",
      "2070/2070 - 23s - loss: 1.9953 - accuracy: 0.4050 - val_loss: 2.2034 - val_accuracy: 0.3551\n"
     ]
    }
   ],
   "source": [
    "h = model.fit(\n",
    "    x_train, y_train,\n",
    "    validation_data=(x_test, y_test),\n",
    "    epochs=50, verbose=2,\n",
    "    callbacks=[\n",
    "               tf.keras.callbacks.EarlyStopping(monitor='val_accuracy', patience=3)\n",
    "    ]\n",
    ")"
   ]
  },
  {
   "cell_type": "code",
   "execution_count": 70,
   "metadata": {
    "colab": {
     "base_uri": "https://localhost:8080/",
     "height": 265
    },
    "executionInfo": {
     "elapsed": 480,
     "status": "ok",
     "timestamp": 1606328100183,
     "user": {
      "displayName": "Amit Yadav",
      "photoUrl": "https://lh3.googleusercontent.com/a-/AOh14GhPlsR49pVenE006oG1QDmA4uQZFm5zND0AfTfoPA=s64",
      "userId": "06019965579715007028"
     },
     "user_tz": 0
    },
    "id": "AkkG3lEOm4OS",
    "outputId": "5c42164c-51ab-4a59-b3b7-2fd4f7d9f6e2"
   },
   "outputs": [
    {
     "data": {
      "image/png": "[encoded data removed]",
      "text/plain": [
       "<Figure size 432x288 with 1 Axes>"
      ]
     },
     "metadata": {
      "needs_background": "light"
     },
     "output_type": "display_data"
    }
   ],
   "source": [
    "from matplotlib import pyplot as plt\n",
    "\n",
    "epochs_ran = len(h.history['loss'])\n",
    "\n",
    "plt.plot(range(0, epochs_ran), h.history['val_accuracy'], label='Validation')\n",
    "plt.plot(range(0, epochs_ran), h.history['accuracy'], label='Training')\n",
    "plt.legend()\n",
    "plt.show()"
   ]
  },
  {
   "cell_type": "markdown",
   "metadata": {
    "id": "j74nkW5xRfRu"
   },
   "source": [
    "Generate names"
   ]
  },
  {
   "cell_type": "code",
   "execution_count": 71,
   "metadata": {
    "executionInfo": {
     "elapsed": 526,
     "status": "ok",
     "timestamp": 1606328413518,
     "user": {
      "displayName": "Amit Yadav",
      "photoUrl": "https://lh3.googleusercontent.com/a-/AOh14GhPlsR49pVenE006oG1QDmA4uQZFm5zND0AfTfoPA=s64",
      "userId": "06019965579715007028"
     },
     "user_tz": 0
    },
    "id": "9f50aTRcpt24"
   },
   "outputs": [],
   "source": [
    "def generate_names(seed):\n",
    "  for i in range(0, 40):\n",
    "    seq = name_to_seq(seed)\n",
    "    padded = tf.keras.preprocessing.sequence.pad_sequences([seq], padding='pre',\n",
    "                                                           maxlen=max_len-1,\n",
    "                                                           truncating='pre')\n",
    "    pred = model.predict(padded)[0]\n",
    "    pred_char = index_to_char[tf.argmax(pred).numpy()]\n",
    "    seed += pred_char\n",
    "\n",
    "    if pred_char == '\\t':\n",
    "      break\n",
    "  print(seed)"
   ]
  },
  {
   "cell_type": "code",
   "execution_count": 103,
   "metadata": {
    "colab": {
     "base_uri": "https://localhost:8080/"
    },
    "executionInfo": {
     "elapsed": 890,
     "status": "ok",
     "timestamp": 1606328473420,
     "user": {
      "displayName": "Amit Yadav",
      "photoUrl": "https://lh3.googleusercontent.com/a-/AOh14GhPlsR49pVenE006oG1QDmA4uQZFm5zND0AfTfoPA=s64",
      "userId": "06019965579715007028"
     },
     "user_tz": 0
    },
    "id": "faQ0FInlpt26",
    "outputId": "72a75c15-f366-4b12-820e-c56ad6158f1d"
   },
   "outputs": [
    {
     "name": "stdout",
     "output_type": "stream",
     "text": [
      "Harrior man\t\n"
     ]
    }
   ],
   "source": [
    "generate_names('H')"
   ]
  },
  {
   "cell_type": "code",
   "execution_count": null,
   "metadata": {
    "id": "dD7DcpHiopOv"
   },
   "outputs": [],
   "source": []
  }
 ],
 "metadata": {
  "accelerator": "GPU",
  "colab": {
   "collapsed_sections": [],
   "name": "Copy of Superhero Name Generator - Learner.ipynb",
   "provenance": [
    {
     "file_id": "1TsXMSezKzlS-q-94mY2OCa7s8kznJOvg",
     "timestamp": 1606322375249
    }
   ]
  },
  "kernelspec": {
   "display_name": "Python 3",
   "language": "python",
   "name": "python3"
  },
  "language_info": {
   "codemirror_mode": {
    "name": "ipython",
    "version": 3
   },
   "file_extension": ".py",
   "mimetype": "text/x-python",
   "name": "python",
   "nbconvert_exporter": "python",
   "pygments_lexer": "ipython3",
   "version": "3.8.5"
  }
 },
 "nbformat": 4,
 "nbformat_minor": 4
}
